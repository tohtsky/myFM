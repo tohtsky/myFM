{
 "cells": [
  {
   "cell_type": "code",
   "execution_count": 1,
   "metadata": {},
   "outputs": [],
   "source": [
    "from collections import defaultdict\n",
    "import numpy as np\n",
    "from sklearn.preprocessing import OneHotEncoder\n",
    "from sklearn import metrics\n",
    "import pandas as pd\n",
    "from scipy import sparse as sps\n",
    "\n",
    "# read movielens 100k data.\n",
    "import myfm\n",
    "from myfm import RelationBlock\n",
    "from myfm.utils.benchmark_data import MovieLens100kDataManager\n",
    "from myfm.utils.encoders import(\n",
    "    DataFrameEncoder, CategoryValueToSparseEncoder, BinningEncoder, MultipleValuesToSparseEncoder\n",
    ")"
   ]
  },
  {
   "cell_type": "code",
   "execution_count": 2,
   "metadata": {},
   "outputs": [],
   "source": [
    "# Implement side information and flavor of SVD++\n",
    "# We add \"all users who have evaluated a movie in the train set\" or\n",
    "# \"all movies rated by a user\" as a feture of user/movie.\n",
    "use_date = True # use date info or not\n",
    "use_iu = True # use implicit user feature\n",
    "use_ii = True # use implicit item feature\n",
    "use_user_info = True # use user information\n",
    "use_movie_info = True # use movie information"
   ]
  },
  {
   "cell_type": "code",
   "execution_count": 3,
   "metadata": {},
   "outputs": [],
   "source": [
    "data_manager = MovieLens100kDataManager()\n",
    "df_train, df_test = data_manager.load_rating_predefined_split(fold=1) # fold 1 is the toughest one\n",
    "\n",
    "user_info = data_manager.load_user_info().set_index('user_id')\n",
    "user_info['zipcode'] = user_info.zipcode.str[0]\n",
    "\n",
    "user_encoder = DataFrameEncoder().add_column(\n",
    "    'user_id', CategoryValueToSparseEncoder(user_info.index)\n",
    ")\n",
    "if use_user_info:\n",
    "    user_encoder.add_column(\n",
    "        'age', BinningEncoder(user_info.age, n_percentiles=10)\n",
    "    ).add_column(\n",
    "        'occupation', CategoryValueToSparseEncoder(user_info.occupation)\n",
    "    ).add_column(\n",
    "        'zipcode', CategoryValueToSparseEncoder(user_info.zipcode)\n",
    "    )"
   ]
  },
  {
   "cell_type": "code",
   "execution_count": 4,
   "metadata": {},
   "outputs": [],
   "source": [
    "movie_info = data_manager.load_movie_info()\n",
    "movie_info['release_year'] = movie_info['release_date'].dt.year\n",
    "\n",
    "movie_info = movie_info[['movie_id', 'release_year', 'genres']].set_index('movie_id')\n",
    "\n",
    "movie_encoder = DataFrameEncoder().add_column(\n",
    "    'movie_id', CategoryValueToSparseEncoder(movie_info.index)\n",
    ")\n",
    "if use_movie_info:\n",
    "    movie_encoder.add_column(\n",
    "        'release_year', BinningEncoder(movie_info.release_year)\n",
    "    ).add_column(\n",
    "        'genres', MultipleValuesToSparseEncoder(movie_info.genres, sep='|')\n",
    "    )\n",
    "\n",
    "if use_date:\n",
    "    date_encoder = CategoryValueToSparseEncoder(df_train.timestamp.dt.date.values)\n",
    "else:\n",
    "    date_encoder = None"
   ]
  },
  {
   "cell_type": "code",
   "execution_count": 5,
   "metadata": {},
   "outputs": [],
   "source": [
    "def string_agg(int_list) -> str:\n",
    "    return ','.join([str(y) for y in int_list])\n",
    "\n",
    "if use_iu:\n",
    "    user_info['user_implicit_feature'] = (\n",
    "        df_train.groupby('user_id')\n",
    "        .movie_id.agg(string_agg)\n",
    "        .reindex(user_info.index)\n",
    "        .fillna('')\n",
    "    )\n",
    "if use_ii:\n",
    "    movie_info['movie_implicit_feature'] = (\n",
    "        df_train.groupby('movie_id')\n",
    "        .user_id.agg(string_agg)\n",
    "        .reindex(movie_info.index)\n",
    "        .fillna('')\n",
    "    )"
   ]
  },
  {
   "cell_type": "code",
   "execution_count": 6,
   "metadata": {},
   "outputs": [
    {
     "data": {
      "text/html": [
       "<div>\n",
       "<style scoped>\n",
       "    .dataframe tbody tr th:only-of-type {\n",
       "        vertical-align: middle;\n",
       "    }\n",
       "\n",
       "    .dataframe tbody tr th {\n",
       "        vertical-align: top;\n",
       "    }\n",
       "\n",
       "    .dataframe thead th {\n",
       "        text-align: right;\n",
       "    }\n",
       "</style>\n",
       "<table border=\"1\" class=\"dataframe\">\n",
       "  <thead>\n",
       "    <tr style=\"text-align: right;\">\n",
       "      <th></th>\n",
       "      <th>age</th>\n",
       "      <th>gender</th>\n",
       "      <th>occupation</th>\n",
       "      <th>zipcode</th>\n",
       "      <th>user_implicit_feature</th>\n",
       "    </tr>\n",
       "    <tr>\n",
       "      <th>user_id</th>\n",
       "      <th></th>\n",
       "      <th></th>\n",
       "      <th></th>\n",
       "      <th></th>\n",
       "      <th></th>\n",
       "    </tr>\n",
       "  </thead>\n",
       "  <tbody>\n",
       "    <tr>\n",
       "      <th>1</th>\n",
       "      <td>24</td>\n",
       "      <td>M</td>\n",
       "      <td>technician</td>\n",
       "      <td>8</td>\n",
       "      <td>1,2,3,4,5,7,8,9,11,13,15,16,18,19,21,22,25,26,...</td>\n",
       "    </tr>\n",
       "    <tr>\n",
       "      <th>2</th>\n",
       "      <td>53</td>\n",
       "      <td>F</td>\n",
       "      <td>other</td>\n",
       "      <td>9</td>\n",
       "      <td>1,10,14,25,100,111,127,237,242,255,258,269,272...</td>\n",
       "    </tr>\n",
       "    <tr>\n",
       "      <th>3</th>\n",
       "      <td>23</td>\n",
       "      <td>M</td>\n",
       "      <td>writer</td>\n",
       "      <td>3</td>\n",
       "      <td>181,258,260,268,271,288,302,303,317,319,320,32...</td>\n",
       "    </tr>\n",
       "    <tr>\n",
       "      <th>4</th>\n",
       "      <td>24</td>\n",
       "      <td>M</td>\n",
       "      <td>technician</td>\n",
       "      <td>4</td>\n",
       "      <td>11,210,258,271,300,301,324,327,328,329,358,359...</td>\n",
       "    </tr>\n",
       "    <tr>\n",
       "      <th>5</th>\n",
       "      <td>33</td>\n",
       "      <td>F</td>\n",
       "      <td>other</td>\n",
       "      <td>1</td>\n",
       "      <td>21,25,29,50,63,66,70,95,99,101,105,121,135,145...</td>\n",
       "    </tr>\n",
       "  </tbody>\n",
       "</table>\n",
       "</div>"
      ],
      "text/plain": [
       "         age gender  occupation zipcode  \\\n",
       "user_id                                   \n",
       "1         24      M  technician       8   \n",
       "2         53      F       other       9   \n",
       "3         23      M      writer       3   \n",
       "4         24      M  technician       4   \n",
       "5         33      F       other       1   \n",
       "\n",
       "                                     user_implicit_feature  \n",
       "user_id                                                     \n",
       "1        1,2,3,4,5,7,8,9,11,13,15,16,18,19,21,22,25,26,...  \n",
       "2        1,10,14,25,100,111,127,237,242,255,258,269,272...  \n",
       "3        181,258,260,268,271,288,302,303,317,319,320,32...  \n",
       "4        11,210,258,271,300,301,324,327,328,329,358,359...  \n",
       "5        21,25,29,50,63,66,70,95,99,101,105,121,135,145...  "
      ]
     },
     "execution_count": 6,
     "metadata": {},
     "output_type": "execute_result"
    }
   ],
   "source": [
    "user_info.head()"
   ]
  },
  {
   "cell_type": "code",
   "execution_count": 7,
   "metadata": {},
   "outputs": [
    {
     "data": {
      "text/html": [
       "<div>\n",
       "<style scoped>\n",
       "    .dataframe tbody tr th:only-of-type {\n",
       "        vertical-align: middle;\n",
       "    }\n",
       "\n",
       "    .dataframe tbody tr th {\n",
       "        vertical-align: top;\n",
       "    }\n",
       "\n",
       "    .dataframe thead th {\n",
       "        text-align: right;\n",
       "    }\n",
       "</style>\n",
       "<table border=\"1\" class=\"dataframe\">\n",
       "  <thead>\n",
       "    <tr style=\"text-align: right;\">\n",
       "      <th></th>\n",
       "      <th>release_year</th>\n",
       "      <th>genres</th>\n",
       "      <th>movie_implicit_feature</th>\n",
       "    </tr>\n",
       "    <tr>\n",
       "      <th>movie_id</th>\n",
       "      <th></th>\n",
       "      <th></th>\n",
       "      <th></th>\n",
       "    </tr>\n",
       "  </thead>\n",
       "  <tbody>\n",
       "    <tr>\n",
       "      <th>1</th>\n",
       "      <td>1995.0</td>\n",
       "      <td>Animation|Children's|Comedy</td>\n",
       "      <td>1,2,6,13,16,21,25,26,42,44,54,57,58,59,62,63,6...</td>\n",
       "    </tr>\n",
       "    <tr>\n",
       "      <th>2</th>\n",
       "      <td>1995.0</td>\n",
       "      <td>Action|Adventure|Thriller</td>\n",
       "      <td>1,22,30,42,49,72,83,102,110,130,178,197,234,24...</td>\n",
       "    </tr>\n",
       "    <tr>\n",
       "      <th>3</th>\n",
       "      <td>1995.0</td>\n",
       "      <td>Thriller</td>\n",
       "      <td>1,43,59,63,82,104,207,216,244,268,269,276,280,...</td>\n",
       "    </tr>\n",
       "    <tr>\n",
       "      <th>4</th>\n",
       "      <td>1995.0</td>\n",
       "      <td>Action|Comedy|Drama</td>\n",
       "      <td>1,7,12,13,16,18,22,43,49,59,83,84,92,94,102,11...</td>\n",
       "    </tr>\n",
       "    <tr>\n",
       "      <th>5</th>\n",
       "      <td>1995.0</td>\n",
       "      <td>Crime|Drama|Thriller</td>\n",
       "      <td>1,13,21,28,72,92,118,130,135,188,207,234,255,2...</td>\n",
       "    </tr>\n",
       "  </tbody>\n",
       "</table>\n",
       "</div>"
      ],
      "text/plain": [
       "          release_year                       genres  \\\n",
       "movie_id                                              \n",
       "1               1995.0  Animation|Children's|Comedy   \n",
       "2               1995.0    Action|Adventure|Thriller   \n",
       "3               1995.0                     Thriller   \n",
       "4               1995.0          Action|Comedy|Drama   \n",
       "5               1995.0         Crime|Drama|Thriller   \n",
       "\n",
       "                                     movie_implicit_feature  \n",
       "movie_id                                                     \n",
       "1         1,2,6,13,16,21,25,26,42,44,54,57,58,59,62,63,6...  \n",
       "2         1,22,30,42,49,72,83,102,110,130,178,197,234,24...  \n",
       "3         1,43,59,63,82,104,207,216,244,268,269,276,280,...  \n",
       "4         1,7,12,13,16,18,22,43,49,59,83,84,92,94,102,11...  \n",
       "5         1,13,21,28,72,92,118,130,135,188,207,234,255,2...  "
      ]
     },
     "execution_count": 7,
     "metadata": {},
     "output_type": "execute_result"
    }
   ],
   "source": [
    "movie_info.head()"
   ]
  },
  {
   "cell_type": "code",
   "execution_count": 8,
   "metadata": {},
   "outputs": [],
   "source": [
    "if use_iu:\n",
    "    user_encoder.add_column(\n",
    "        'user_implicit_feature',\n",
    "        MultipleValuesToSparseEncoder(user_info.user_implicit_feature, normalize=True)\n",
    "    )\n",
    "if use_ii:\n",
    "    movie_encoder.add_column(\n",
    "        'movie_implicit_feature',\n",
    "        MultipleValuesToSparseEncoder(movie_info.movie_implicit_feature, normalize=True)\n",
    "    )\n",
    "    "
   ]
  },
  {
   "cell_type": "code",
   "execution_count": 9,
   "metadata": {},
   "outputs": [],
   "source": [
    "# given user/movie ids, add additional infos and return it as sparse\n",
    "def augment_user_id(user_ids):\n",
    "    return user_encoder.encode_df(\n",
    "        user_info.reindex(user_ids).reset_index()\n",
    "    )\n",
    "\n",
    "def augment_movie_id(movie_ids):\n",
    "    return movie_encoder.encode_df(\n",
    "        movie_info.reindex(movie_ids).reset_index()\n",
    "    )"
   ]
  },
  {
   "cell_type": "markdown",
   "metadata": {},
   "source": [
    "## User Relation Block to express data\n",
    "See [\\[Rendle 2013\\]](http://www.vldb.org/pvldb/vol6/p337-rendle.pdf) how comlexity dcrease drastically in this case (and most cases with bipartite graph structure)."
   ]
  },
  {
   "cell_type": "code",
   "execution_count": 10,
   "metadata": {},
   "outputs": [],
   "source": [
    "# Create RelationBlock.\n",
    "# https://docs.scipy.org/doc/numpy/reference/generated/numpy.unique.html\n",
    "train_blocks = []\n",
    "test_blocks = []\n",
    "for source, target in [(df_train, train_blocks), (df_test, test_blocks)]:\n",
    "    unique_users, user_map = np.unique(source.user_id, return_inverse=True)\n",
    "    target.append(\n",
    "        RelationBlock(user_map, augment_user_id(unique_users))\n",
    "    )\n",
    "    unique_movies, movie_map = np.unique(source.movie_id, return_inverse=True)\n",
    "    target.append(\n",
    "        RelationBlock(movie_map, augment_movie_id(unique_movies))\n",
    "    )\n",
    "    \n",
    "if use_date:\n",
    "    X_date_train = date_encoder.to_sparse(df_train.timestamp.dt.date.values)\n",
    "    X_date_test = date_encoder.to_sparse(df_test.timestamp.dt.date.values)\n",
    "else:\n",
    "    X_date_train = None\n",
    "    X_date_test = None"
   ]
  },
  {
   "cell_type": "markdown",
   "metadata": {},
   "source": [
    "## Regression"
   ]
  },
  {
   "cell_type": "code",
   "execution_count": 11,
   "metadata": {},
   "outputs": [
    {
     "name": "stderr",
     "output_type": "stream",
     "text": [
      "alpha = 1.66 w0 = 3.40  rmse_this: 0.97 mae_this: 0.76: 100%|█████████████████████████| 512/512 [00:23<00:00, 22.13it/s]\n"
     ]
    }
   ],
   "source": [
    "group_shapes = ([len(date_encoder)] if use_date else []) + user_encoder.encoder_shapes + movie_encoder.encoder_shapes\n",
    "\n",
    "fm = myfm.MyFMRegressor(rank=10)\n",
    "fm.fit(\n",
    "    X_date_train, df_train.rating.values, X_rel=train_blocks,\n",
    "    group_shapes=group_shapes,\n",
    "    X_test=X_date_test, X_rel_test=test_blocks,\n",
    "    y_test=df_test.rating.values,\n",
    "    n_iter=512, n_kept_samples=512\n",
    ");"
   ]
  },
  {
   "cell_type": "code",
   "execution_count": 12,
   "metadata": {},
   "outputs": [
    {
     "name": "stdout",
     "output_type": "stream",
     "text": [
      "rmse=0.8833165623495484, mae=0.6940611748122608\n"
     ]
    }
   ],
   "source": [
    "test_predictions = fm.predict(X_date_test, test_blocks)\n",
    "\n",
    "rmse = (\n",
    "    (test_predictions - df_test.rating.values)**2\n",
    ").mean() ** 0.5\n",
    "mae = np.abs(test_predictions - df_test.rating).mean()\n",
    "\n",
    "# Note the improvement from \"id_only\" case.\n",
    "# Compare this with methods like ones in https://paperswithcode.com/sota/collaborative-filtering-on-movielens-100k\n",
    "print('rmse={}, mae={}'.format(rmse, mae))"
   ]
  },
  {
   "cell_type": "markdown",
   "metadata": {},
   "source": [
    "## Ordered Probit Regression"
   ]
  },
  {
   "cell_type": "code",
   "execution_count": 13,
   "metadata": {},
   "outputs": [
    {
     "name": "stderr",
     "output_type": "stream",
     "text": [
      "w0 = 0.21, cutpoint = ['-2.250', '-1.278', '-0.045', '1.376'] : 100%|█████████████████| 512/512 [00:41<00:00, 12.28it/s]\n"
     ]
    }
   ],
   "source": [
    "fm_probit = myfm.MyFMOrderedProbit(rank=10)\n",
    "fm_probit.fit(\n",
    "    X_date_train, df_train.rating.values - 1, X_rel=train_blocks,\n",
    "    group_shapes=group_shapes,\n",
    "    n_iter=512, n_kept_samples=512\n",
    ");"
   ]
  },
  {
   "cell_type": "code",
   "execution_count": 14,
   "metadata": {},
   "outputs": [
    {
     "name": "stdout",
     "output_type": "stream",
     "text": [
      "rmse=0.8808022284735955, mae=0.6920880592029289\n"
     ]
    }
   ],
   "source": [
    "test_prediction_ordered_prob = fm_probit.predict_proba(X_date_test, test_blocks)\n",
    "test_prediction_ordered_mean = 1 + test_prediction_ordered_prob.dot(np.arange(5)) # class 0 => rating 1 shift\n",
    "\n",
    "rmse = (\n",
    "    (test_prediction_ordered_mean - df_test.rating.values) **2\n",
    ").mean() ** 0.5\n",
    "mae = np.abs(test_prediction_ordered_mean - df_test.rating).mean()\n",
    "test_predictions = fm.predict(X_date_test, test_blocks)\n",
    "\n",
    "print('rmse={}, mae={}'.format(rmse, mae))"
   ]
  },
  {
   "cell_type": "code",
   "execution_count": 15,
   "metadata": {},
   "outputs": [
    {
     "name": "stderr",
     "output_type": "stream",
     "text": [
      "alpha = 0.08 w0 = 3.29 : 100%|████████████████████████████████████████████████████████████| 6/6 [00:13<00:00,  2.18s/it]\n"
     ]
    }
   ],
   "source": [
    "# If we use the original data format, it takes much more!\n",
    "X_original_format = []\n",
    "if use_date:\n",
    "    X_original_format.append(X_date_train)\n",
    "\n",
    "X_original_format.extend(\n",
    "    [rel.data[rel.original_to_block] for rel in train_blocks]\n",
    ")\n",
    "\n",
    "X_original_format = sps.hstack(X_original_format, format='csr')\n",
    "\n",
    "fm_rawformat = myfm.MyFMRegressor(rank=10).fit(\n",
    "    X_original_format, df_train.rating,\n",
    "    group_shapes=group_shapes, n_iter=6, n_kept_samples=1\n",
    ")"
   ]
  },
  {
   "cell_type": "code",
   "execution_count": 16,
   "metadata": {},
   "outputs": [
    {
     "data": {
      "text/plain": [
       "array([[ 1.33920652e-15, -5.23886490e-16,  1.29410371e-15, ...,\n",
       "         0.00000000e+00,  4.85722573e-17, -2.08166817e-16],\n",
       "       [ 3.27515792e-15,  2.44249065e-15,  1.52655666e-15, ...,\n",
       "         1.87350135e-15,  1.91513472e-15, -1.49880108e-15],\n",
       "       [ 4.44089210e-16, -2.33146835e-15, -3.05311332e-16, ...,\n",
       "         4.63518113e-15, -1.38777878e-16, -2.27595720e-15],\n",
       "       ...,\n",
       "       [-2.77555756e-16, -1.66533454e-16,  8.04911693e-16, ...,\n",
       "        -5.55111512e-17, -1.94289029e-16,  2.49800181e-16],\n",
       "       [ 2.08166817e-17, -4.29344060e-16,  8.75167994e-16, ...,\n",
       "         1.66533454e-16,  4.99600361e-16,  1.11022302e-16],\n",
       "       [ 8.04911693e-16,  1.80411242e-16, -3.33066907e-16, ...,\n",
       "        -2.77555756e-16, -1.80411242e-16, -5.55111512e-17]])"
      ]
     },
     "execution_count": 16,
     "metadata": {},
     "output_type": "execute_result"
    }
   ],
   "source": [
    "# They shoud be same up to floating point artifact.\n",
    "fm_rawformat.predictor_.samples[-1].V - fm.predictor_.samples[5].V"
   ]
  }
 ],
 "metadata": {
  "kernelspec": {
   "display_name": "Python 3 (ipykernel)",
   "language": "python",
   "name": "python3"
  },
  "language_info": {
   "codemirror_mode": {
    "name": "ipython",
    "version": 3
   },
   "file_extension": ".py",
   "mimetype": "text/x-python",
   "name": "python",
   "nbconvert_exporter": "python",
   "pygments_lexer": "ipython3",
   "version": "3.10.0"
  }
 },
 "nbformat": 4,
 "nbformat_minor": 4
}
